{
 "cells": [
  {
   "cell_type": "code",
   "execution_count": 2,
   "id": "b28171e8",
   "metadata": {},
   "outputs": [
    {
     "name": "stdout",
     "output_type": "stream",
     "text": [
      "[1 2 3 4 5 6 7 8 9]\n",
      "Length:  9\n",
      "[1 2 3 4 5 6 7 8 9]\n"
     ]
    }
   ],
   "source": [
    "import numpy as np\n",
    "arr = np.array([1,2,3,4,5,6,7,8,9])\n",
    "print(arr)\n",
    "\n",
    "# Slice\n",
    "print(\"Length: \",len(arr))\n",
    "print(arr[0:9])\n",
    "\n",
    "# [start:end], start included, end excluded"
   ]
  },
  {
   "cell_type": "code",
   "execution_count": 3,
   "id": "d6da0ede",
   "metadata": {},
   "outputs": [
    {
     "name": "stdout",
     "output_type": "stream",
     "text": [
      "[1 2 3 4 5]\n"
     ]
    }
   ],
   "source": [
    "print(arr[0:5])"
   ]
  },
  {
   "cell_type": "code",
   "execution_count": 5,
   "id": "5566e233",
   "metadata": {},
   "outputs": [
    {
     "name": "stdout",
     "output_type": "stream",
     "text": [
      "[5 6 7 8 9]\n"
     ]
    }
   ],
   "source": [
    "print(arr[4:])"
   ]
  },
  {
   "cell_type": "markdown",
   "id": "6903bf2e",
   "metadata": {},
   "source": [
    "# Negative Indices"
   ]
  },
  {
   "cell_type": "code",
   "execution_count": 6,
   "id": "6f129829",
   "metadata": {},
   "outputs": [
    {
     "name": "stdout",
     "output_type": "stream",
     "text": [
      "[1 2 3 4 5 6 7 8 9]\n",
      "9\n",
      "1\n"
     ]
    }
   ],
   "source": [
    "print(arr)\n",
    "print(arr[-1])\n",
    "\n",
    "print(arr[-9])"
   ]
  },
  {
   "cell_type": "code",
   "execution_count": 7,
   "id": "044441b2",
   "metadata": {},
   "outputs": [
    {
     "name": "stdout",
     "output_type": "stream",
     "text": [
      "[]\n"
     ]
    }
   ],
   "source": [
    "print(arr[-3:-7])"
   ]
  },
  {
   "cell_type": "code",
   "execution_count": 8,
   "id": "6a29a18b",
   "metadata": {},
   "outputs": [
    {
     "name": "stdout",
     "output_type": "stream",
     "text": [
      "[1 2 3 4 5 6 7 8 9]\n",
      "[1 3 5 7 9]\n"
     ]
    }
   ],
   "source": [
    "# Step value in slicing a Numpy array\n",
    "print(arr)\n",
    "print(arr[0:9:2]) "
   ]
  },
  {
   "cell_type": "markdown",
   "id": "817a922f",
   "metadata": {},
   "source": [
    "# Slicing of 2_D Array"
   ]
  },
  {
   "cell_type": "code",
   "execution_count": 9,
   "id": "1de02d16",
   "metadata": {},
   "outputs": [
    {
     "name": "stdout",
     "output_type": "stream",
     "text": [
      "\n",
      "\n",
      "[ 6  7  8  9 10]\n",
      "8\n",
      "[2 3 4]\n"
     ]
    }
   ],
   "source": [
    "arr = np.array([[1, 2, 3, 4, 5], [6, 7, 8, 9, 10]])\n",
    "\n",
    "#print(arr)\n",
    "print(\"\\n\")\n",
    "\n",
    "print(arr[1])\n",
    "print(arr[1,2])\n",
    "\n",
    "print(arr[0,1:4 ])\n",
    "\n",
    "# arr[2_d array loc, range of elements]\n",
    "\n",
    "\n",
    "#print(arr[0, 1:4]) "
   ]
  },
  {
   "cell_type": "code",
   "execution_count": 10,
   "id": "4bf46ee0",
   "metadata": {},
   "outputs": [
    {
     "name": "stdout",
     "output_type": "stream",
     "text": [
      "[[ 1  2  3  4  5]\n",
      " [ 6  7  8  9 10]]\n",
      "[[1 2 3]\n",
      " [6 7 8]]\n"
     ]
    }
   ],
   "source": [
    "print(arr)\n",
    "print(arr[0:2,0:3])\n",
    "\n",
    "#print(arr[0:2, 2]) "
   ]
  },
  {
   "cell_type": "code",
   "execution_count": 11,
   "id": "5c04a723",
   "metadata": {},
   "outputs": [
    {
     "name": "stdout",
     "output_type": "stream",
     "text": [
      "[[ 1  2  3  4  5]\n",
      " [10 20 30 40 50]\n",
      " [11 22 33 44 55]]\n",
      "15\n",
      "(3, 5)\n"
     ]
    }
   ],
   "source": [
    "arr = np.array([[1,2,3,4,5],[10,20,30,40,50],[11,22,33,44,55]])\n",
    "print(arr)\n",
    "print(arr.size)\n",
    "print(arr.shape)"
   ]
  },
  {
   "cell_type": "code",
   "execution_count": 12,
   "id": "189feb90",
   "metadata": {},
   "outputs": [
    {
     "name": "stdout",
     "output_type": "stream",
     "text": [
      "[[ 2  3]\n",
      " [20 30]]\n",
      "\n",
      " [[20 30 40]\n",
      " [22 33 44]]\n"
     ]
    }
   ],
   "source": [
    "\n",
    "\n",
    "# 2, 3\n",
    "# 20,30\n",
    "\n",
    "print(arr[0:2,1:3])\n",
    "\n",
    "\n",
    "# 20 30 40\n",
    "# 22 33 44\n",
    "\n",
    "print(\"\\n\",arr[1:3,1:4])\n",
    "\n",
    "\n",
    "\n",
    "\n"
   ]
  },
  {
   "cell_type": "code",
   "execution_count": null,
   "id": "df0979d0",
   "metadata": {},
   "outputs": [],
   "source": [
    "\n"
   ]
  },
  {
   "cell_type": "code",
   "execution_count": null,
   "id": "2070eb73",
   "metadata": {},
   "outputs": [],
   "source": []
  }
 ],
 "metadata": {
  "kernelspec": {
   "display_name": "Python 3 (ipykernel)",
   "language": "python",
   "name": "python3"
  },
  "language_info": {
   "codemirror_mode": {
    "name": "ipython",
    "version": 3
   },
   "file_extension": ".py",
   "mimetype": "text/x-python",
   "name": "python",
   "nbconvert_exporter": "python",
   "pygments_lexer": "ipython3",
   "version": "3.9.7"
  }
 },
 "nbformat": 4,
 "nbformat_minor": 5
}
