{
 "cells": [
  {
   "cell_type": "markdown",
   "id": "59c11603",
   "metadata": {},
   "source": [
    "# Data Types in NumPy"
   ]
  },
  {
   "cell_type": "code",
   "execution_count": 2,
   "id": "9d9acc1d",
   "metadata": {},
   "outputs": [
    {
     "name": "stdout",
     "output_type": "stream",
     "text": [
      "[1 2 3 4]\n",
      "int32\n"
     ]
    }
   ],
   "source": [
    "import numpy as np\n",
    "# dtype\n",
    "arr = np.array([1, 2, 3, 4])\n",
    "print(arr)\n",
    "print(arr.dtype) "
   ]
  },
  {
   "cell_type": "code",
   "execution_count": 3,
   "id": "1283dd21",
   "metadata": {},
   "outputs": [
    {
     "name": "stdout",
     "output_type": "stream",
     "text": [
      "['apple' 'banana' 'cherry']\n",
      "<U6\n"
     ]
    }
   ],
   "source": [
    "arr = np.array(['apple', 'banana', 'cherry'])\n",
    "print(arr)\n",
    "print(arr.dtype) "
   ]
  },
  {
   "cell_type": "code",
   "execution_count": 4,
   "id": "3c6cca18",
   "metadata": {},
   "outputs": [
    {
     "name": "stdout",
     "output_type": "stream",
     "text": [
      "[1 2 3 4]\n",
      "int32\n",
      "[1. 2. 3. 4. 5. 6.]\n",
      "float64\n"
     ]
    }
   ],
   "source": [
    "# Creating Arrays With a Defined Data Type\n",
    "\n",
    "arr = np.array([1,2,3,4],dtype='int')\n",
    "\n",
    "print(arr)\n",
    "print(arr.dtype)\n",
    "\n",
    "\n",
    "arr = np.array([1,2,3,4,5,6],dtype='float')\n",
    "print(arr)\n",
    "print(arr.dtype)"
   ]
  },
  {
   "cell_type": "code",
   "execution_count": 5,
   "id": "420dc664",
   "metadata": {},
   "outputs": [
    {
     "name": "stdout",
     "output_type": "stream",
     "text": [
      "[1 2 3 4]\n",
      "int32\n"
     ]
    }
   ],
   "source": [
    "# int with 4 bytes\n",
    "arr = np.array([1, 2, 3, 4], dtype='i4')\n",
    "\n",
    "print(arr)\n",
    "print(arr.dtype) "
   ]
  },
  {
   "cell_type": "code",
   "execution_count": 6,
   "id": "17164dfb",
   "metadata": {},
   "outputs": [
    {
     "name": "stdout",
     "output_type": "stream",
     "text": [
      "[1 2 3 4]\n",
      "int32\n"
     ]
    }
   ],
   "source": [
    "\n",
    "\n",
    "# Errors\n",
    "\n",
    "#arr = np.array(['a', '2', '3'], dtype='i') \n",
    "print(arr)\n",
    "print(arr.dtype)\n",
    "\n"
   ]
  },
  {
   "cell_type": "markdown",
   "id": "ba0cdab8",
   "metadata": {},
   "source": [
    "Data Type Conversion"
   ]
  },
  {
   "cell_type": "code",
   "execution_count": 7,
   "id": "5add1ade",
   "metadata": {},
   "outputs": [
    {
     "name": "stdout",
     "output_type": "stream",
     "text": [
      "[1.1 2.2 3.3 4.4]\n",
      "[1 2 3 4]\n",
      "int32\n"
     ]
    }
   ],
   "source": [
    "# float to int\n",
    "arr = np.array([1.1,2.2,3.3,4.4])\n",
    "\n",
    "newarr = arr.astype('int')\n",
    "\n",
    "#newarr = arr.astype('i')\n",
    "print(arr)\n",
    "print(newarr)\n",
    "print(newarr.dtype) "
   ]
  },
  {
   "cell_type": "code",
   "execution_count": 9,
   "id": "85a8afb8",
   "metadata": {},
   "outputs": [
    {
     "name": "stdout",
     "output_type": "stream",
     "text": [
      "[1.  2.  5.5 0. ]\n",
      "[ True  True  True False]\n",
      "bool\n"
     ]
    }
   ],
   "source": [
    "# int to bool\n",
    "\n",
    "arr = np.array([1,2,5.5,0])\n",
    "\n",
    "newarr = arr.astype('bool')\n",
    "print(arr)\n",
    "print(newarr)\n",
    "print(newarr.dtype) "
   ]
  },
  {
   "cell_type": "markdown",
   "id": "0b4c9387",
   "metadata": {},
   "source": [
    "Difference Between Copy and View"
   ]
  },
  {
   "cell_type": "code",
   "execution_count": 10,
   "id": "7bff8b2e",
   "metadata": {},
   "outputs": [
    {
     "name": "stdout",
     "output_type": "stream",
     "text": [
      "[1 2 3 4 5 6]\n",
      "[100   2   3   4   5   6]\n",
      "[1 2 3 4 5 6]\n"
     ]
    }
   ],
   "source": [
    "\n",
    "\n",
    "# Copy: It is goint to create new instance for your values\n",
    "\n",
    "arr = np.array([1,2,3,4,5,6])\n",
    "x = arr.copy()\n",
    "print(x)\n",
    "x[0] = 100\n",
    "print(x)\n",
    "\n",
    "\n",
    "print(arr)\n",
    "#print(x) \n",
    "\n"
   ]
  },
  {
   "cell_type": "code",
   "execution_count": 11,
   "id": "bffd32bf",
   "metadata": {},
   "outputs": [
    {
     "name": "stdout",
     "output_type": "stream",
     "text": [
      "[200   2   3   4   5]\n",
      "[200   2   3   4   5]\n"
     ]
    }
   ],
   "source": [
    "# View\n",
    "arr = np.array([1, 2, 3, 4, 5])\n",
    "x = arr.view()\n",
    "x[0] = 200\n",
    "print(arr)\n",
    "print(x) "
   ]
  },
  {
   "cell_type": "code",
   "execution_count": 12,
   "id": "edc94461",
   "metadata": {},
   "outputs": [
    {
     "name": "stdout",
     "output_type": "stream",
     "text": [
      "None\n"
     ]
    }
   ],
   "source": [
    "arr = np.array([1, 2, 3, 4, 5])\n",
    "\n",
    "x = arr.copy()\n",
    "y = arr.view()\n",
    "\n",
    "print(x.base)\n",
    "#print(y.base) "
   ]
  },
  {
   "cell_type": "markdown",
   "id": "c2e04396",
   "metadata": {},
   "source": [
    "\n",
    "Array Reshaping"
   ]
  },
  {
   "cell_type": "code",
   "execution_count": 13,
   "id": "f3f9f49f",
   "metadata": {},
   "outputs": [
    {
     "name": "stdout",
     "output_type": "stream",
     "text": [
      "12\n",
      "(12,)\n",
      "[[ 1  2  3]\n",
      " [ 4  5  6]\n",
      " [ 7  8  9]\n",
      " [10 11 12]]\n",
      "[[ 1]\n",
      " [ 2]\n",
      " [ 3]\n",
      " [ 4]\n",
      " [ 5]\n",
      " [ 6]\n",
      " [ 7]\n",
      " [ 8]\n",
      " [ 9]\n",
      " [10]\n",
      " [11]\n",
      " [12]]\n",
      "[[ 1  2  3  4]\n",
      " [ 5  6  7  8]\n",
      " [ 9 10 11 12]]\n"
     ]
    }
   ],
   "source": [
    "arr = np.array([1, 2, 3, 4, 5, 6, 7, 8, 9, 10, 11, 12])\n",
    "\n",
    "print(arr.size)\n",
    "print(arr.shape)\n",
    "newarr = arr.reshape(4, 3)\n",
    "newarr1 = arr.reshape(12, 1)\n",
    "newarr2 = arr.reshape(3, 4)\n",
    "\n",
    "print(newarr) \n",
    "print(newarr1)\n",
    "print(newarr2)\n",
    "\n",
    "\n",
    "# Create a 2d array and then conveet it into 1-D array"
   ]
  },
  {
   "cell_type": "code",
   "execution_count": 14,
   "id": "21e048e0",
   "metadata": {},
   "outputs": [
    {
     "name": "stdout",
     "output_type": "stream",
     "text": [
      "[[[ 1  2]\n",
      "  [ 3  4]]\n",
      "\n",
      " [[ 5  6]\n",
      "  [ 7  8]]\n",
      "\n",
      " [[ 9 10]\n",
      "  [11 12]]]\n",
      "[[[ 1  2]\n",
      "  [ 3  4]\n",
      "  [ 5  6]]\n",
      "\n",
      " [[ 7  8]\n",
      "  [ 9 10]\n",
      "  [11 12]]]\n",
      "[[[ 1  2]\n",
      "  [ 3  4]\n",
      "  [ 5  6]]\n",
      "\n",
      " [[ 7  8]\n",
      "  [ 9 10]\n",
      "  [11 12]]]\n"
     ]
    }
   ],
   "source": [
    "arr = np.array([1, 2, 3, 4, 5, 6, 7, 8, 9, 10, 11, 12])\n",
    "\n",
    "newarr = arr.reshape(3, 2, 2)\n",
    "newarr1 = arr.reshape(2, 3, 2)\n",
    "newarr2 = arr.reshape(2, 3, 2)\n",
    "\n",
    "\n",
    "print(newarr)\n",
    "print(newarr1)\n",
    "print(newarr2)\n",
    "\n",
    "\n",
    "# convert 3-D array into 1-D array"
   ]
  },
  {
   "cell_type": "code",
   "execution_count": null,
   "id": "d774cb6e",
   "metadata": {},
   "outputs": [],
   "source": []
  }
 ],
 "metadata": {
  "kernelspec": {
   "display_name": "Python 3 (ipykernel)",
   "language": "python",
   "name": "python3"
  },
  "language_info": {
   "codemirror_mode": {
    "name": "ipython",
    "version": 3
   },
   "file_extension": ".py",
   "mimetype": "text/x-python",
   "name": "python",
   "nbconvert_exporter": "python",
   "pygments_lexer": "ipython3",
   "version": "3.9.7"
  }
 },
 "nbformat": 4,
 "nbformat_minor": 5
}
