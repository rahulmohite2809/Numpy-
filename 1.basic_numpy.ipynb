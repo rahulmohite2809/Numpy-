{
 "cells": [
  {
   "cell_type": "markdown",
   "id": "cfe09242",
   "metadata": {},
   "source": [
    "# Numerical Python End to End in Detail"
   ]
  },
  {
   "cell_type": "markdown",
   "id": "04ff110b",
   "metadata": {},
   "source": [
    "\n",
    "Numpy:\n",
    "\n",
    "Numpy- is a Numerical Python\n",
    "\n",
    "It is developed by Travis Oliphant in 2005\n",
    "\n",
    "Numpy has functions to work on linear algebra, fourier transform, and matrices\n",
    "\n",
    "Its basically used to work with array, It can work with multidimentional Arrays\n",
    "Why:\n",
    "\n",
    "Numpy is built using python, and most of the part which requires fatser execution is developed using c or c++,So it is very fast in execution.\n",
    "\n",
    "Numpy arrays are called as ndarray\n",
    "\n",
    "Numpy has 50x speed as compared to python list\n",
    "\n",
    "Numpy provides lots of functions which can be performed on large data\n",
    "\n",
    "Numpy gives faster response as compared to list as it stores numpy arrays at one continuous location\n",
    "\n",
    "Numpy codes are available at: https://github.com/numpy/numpy\n"
   ]
  },
  {
   "cell_type": "markdown",
   "id": "a4b76234",
   "metadata": {},
   "source": [
    "# Installation of Numpy"
   ]
  },
  {
   "cell_type": "code",
   "execution_count": 1,
   "id": "e4b87edc",
   "metadata": {},
   "outputs": [
    {
     "data": {
      "text/plain": [
       "'1.21.2'"
      ]
     },
     "execution_count": 1,
     "metadata": {},
     "output_type": "execute_result"
    }
   ],
   "source": [
    "import numpy as np\n",
    "\n",
    "np.__version__"
   ]
  },
  {
   "cell_type": "code",
   "execution_count": 2,
   "id": "2af2a1a4",
   "metadata": {},
   "outputs": [
    {
     "name": "stdout",
     "output_type": "stream",
     "text": [
      "[1 2 3 4 5 6 7 8 9]\n",
      "<class 'numpy.ndarray'>\n",
      "[10 20 30 40]\n",
      "<class 'numpy.ndarray'>\n"
     ]
    }
   ],
   "source": [
    "# create a numpy array using list\n",
    "arr = np.array([1,2,3,4,5,6,7,8,9])\n",
    "\n",
    "print(arr)\n",
    "print(type(arr))\n",
    "\n",
    "\n",
    "lst = [10,20,30,40]\n",
    "\n",
    "ar = np.array(lst)\n",
    "print(ar)\n",
    "print(type(ar))"
   ]
  },
  {
   "cell_type": "code",
   "execution_count": 3,
   "id": "637c5b7f",
   "metadata": {},
   "outputs": [
    {
     "name": "stdout",
     "output_type": "stream",
     "text": [
      "[1 2 3 4 5 6 7 8 9]\n",
      "Number of dimensions:  1\n"
     ]
    }
   ],
   "source": [
    "# How to access the element\n",
    "# its 1-D array\n",
    "arr = np.array([1,2,3,4,5,6,7,8,9])\n",
    "print(arr)\n",
    "\n",
    "\n",
    "# lets check the dimensions of the array\n",
    "\n",
    "print(\"Number of dimensions: \",arr.ndim)"
   ]
  },
  {
   "cell_type": "code",
   "execution_count": 4,
   "id": "8593eb8b",
   "metadata": {},
   "outputs": [
    {
     "name": "stdout",
     "output_type": "stream",
     "text": [
      "[1 2 3 4 5 6]\n",
      "<class 'numpy.ndarray'>\n",
      "Dimensions:  1\n"
     ]
    }
   ],
   "source": [
    "# Create numpy array using tuple\n",
    "\n",
    "tup = (1,2,3,4,5,6)\n",
    "ar = np.array(tup)\n",
    "print(ar)\n",
    "print(type(ar))\n",
    "print(\"Dimensions: \",ar.ndim)"
   ]
  },
  {
   "cell_type": "code",
   "execution_count": null,
   "id": "3c67b20d",
   "metadata": {},
   "outputs": [],
   "source": []
  }
 ],
 "metadata": {
  "kernelspec": {
   "display_name": "Python 3 (ipykernel)",
   "language": "python",
   "name": "python3"
  },
  "language_info": {
   "codemirror_mode": {
    "name": "ipython",
    "version": 3
   },
   "file_extension": ".py",
   "mimetype": "text/x-python",
   "name": "python",
   "nbconvert_exporter": "python",
   "pygments_lexer": "ipython3",
   "version": "3.9.7"
  }
 },
 "nbformat": 4,
 "nbformat_minor": 5
}
