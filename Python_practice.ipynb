{
 "cells": [
  {
   "cell_type": "code",
   "execution_count": 1,
   "id": "4c74dea1",
   "metadata": {},
   "outputs": [
    {
     "data": {
      "text/plain": [
       "180"
      ]
     },
     "execution_count": 1,
     "metadata": {},
     "output_type": "execute_result"
    }
   ],
   "source": [
    "#addition of two arryas\n",
    "\n",
    "\n",
    "#total addition\n",
    "import numpy  as np\n",
    "\n",
    "n1=np.array([10,20,30])\n",
    "n2=np.array([30,40,50])\n",
    "\n",
    "np.sum ([n1,n2])"
   ]
  },
  {
   "cell_type": "code",
   "execution_count": 3,
   "id": "84c0d24c",
   "metadata": {},
   "outputs": [
    {
     "data": {
      "text/plain": [
       "array([40, 60, 80])"
      ]
     },
     "execution_count": 3,
     "metadata": {},
     "output_type": "execute_result"
    }
   ],
   "source": [
    "#addition of column using 0 axis:\n",
    "\n",
    "np.sum([n1,n2],axis=0)"
   ]
  },
  {
   "cell_type": "code",
   "execution_count": 6,
   "id": "de168822",
   "metadata": {},
   "outputs": [
    {
     "data": {
      "text/plain": [
       "array([ 60, 120])"
      ]
     },
     "execution_count": 6,
     "metadata": {},
     "output_type": "execute_result"
    }
   ],
   "source": [
    "#addition of row using 1 axis:\n",
    "\n",
    "\n",
    "np.sum([n1,n2],axis=1)"
   ]
  },
  {
   "cell_type": "code",
   "execution_count": 7,
   "id": "20777b81",
   "metadata": {},
   "outputs": [],
   "source": [
    "#saving and loding of array:\n",
    "\n",
    "\n",
    "#saving:\n",
    "np.save('my_array',n1)"
   ]
  },
  {
   "cell_type": "code",
   "execution_count": 9,
   "id": "dbb0d927",
   "metadata": {},
   "outputs": [
    {
     "data": {
      "text/plain": [
       "array([10, 20, 30])"
      ]
     },
     "execution_count": 9,
     "metadata": {},
     "output_type": "execute_result"
    }
   ],
   "source": [
    "#loading\n",
    "n3=np.load ('my_array.npy')\n",
    "n3"
   ]
  },
  {
   "cell_type": "code",
   "execution_count": 12,
   "id": "f022de6e",
   "metadata": {},
   "outputs": [
    {
     "data": {
      "text/plain": [
       "array([13, 35, 57, 79])"
      ]
     },
     "execution_count": 12,
     "metadata": {},
     "output_type": "execute_result"
    }
   ],
   "source": [
    "#basic addition of arrays:\n",
    "\n",
    "#adding 1\n",
    "n1=np.array([12,34,56,78])\n",
    "n1=n1+1\n",
    "n1\n",
    "\n",
    "#multiplication\n",
    "\n",
    "print n1"
   ]
  },
  {
   "cell_type": "code",
   "execution_count": 16,
   "id": "e2a4a8ef",
   "metadata": {},
   "outputs": [
    {
     "name": "stdout",
     "output_type": "stream",
     "text": [
      "[ 26  70 114 158]\n"
     ]
    },
    {
     "data": {
      "text/plain": [
       "array([ 52, 140, 228, 316])"
      ]
     },
     "execution_count": 16,
     "metadata": {},
     "output_type": "execute_result"
    }
   ],
   "source": [
    "#multiplication\n",
    "\n",
    "print (n1)\n",
    "\n",
    "n1=n1*2\n",
    "n1"
   ]
  },
  {
   "cell_type": "code",
   "execution_count": 18,
   "id": "31aea81c",
   "metadata": {},
   "outputs": [
    {
     "name": "stdout",
     "output_type": "stream",
     "text": [
      "[ 50 138 226 314]\n"
     ]
    },
    {
     "data": {
      "text/plain": [
       "array([-150,  -62,   26,  114])"
      ]
     },
     "execution_count": 18,
     "metadata": {},
     "output_type": "execute_result"
    }
   ],
   "source": [
    "#substraction\n",
    "\n",
    "print (n1)\n",
    "\n",
    "n1=n1-200\n",
    "n1"
   ]
  },
  {
   "cell_type": "code",
   "execution_count": 19,
   "id": "4689edb9",
   "metadata": {},
   "outputs": [
    {
     "name": "stdout",
     "output_type": "stream",
     "text": [
      "[-150  -62   26  114]\n"
     ]
    },
    {
     "data": {
      "text/plain": [
       "array([-0.75, -0.31,  0.13,  0.57])"
      ]
     },
     "execution_count": 19,
     "metadata": {},
     "output_type": "execute_result"
    }
   ],
   "source": [
    "#division\n",
    "\n",
    "print (n1)\n",
    "\n",
    "n1=n1/200\n",
    "n1"
   ]
  },
  {
   "cell_type": "code",
   "execution_count": 20,
   "id": "1a8a7e93",
   "metadata": {},
   "outputs": [
    {
     "data": {
      "text/plain": [
       "32.166666666666664"
      ]
     },
     "execution_count": 20,
     "metadata": {},
     "output_type": "execute_result"
    }
   ],
   "source": [
    "#numpy match function:\n",
    "#mean\n",
    "n1=np.array([23,43,54,3,5,65])\n",
    "\n",
    "\n",
    "np.mean(n1)"
   ]
  },
  {
   "cell_type": "code",
   "execution_count": 21,
   "id": "5fcb5f70",
   "metadata": {},
   "outputs": [
    {
     "data": {
      "text/plain": [
       "23.610849671755194"
      ]
     },
     "execution_count": 21,
     "metadata": {},
     "output_type": "execute_result"
    }
   ],
   "source": [
    "#std\n",
    "n1=np.array([23,43,54,3,5,65])\n",
    "\n",
    "\n",
    "np.std(n1)"
   ]
  },
  {
   "cell_type": "code",
   "execution_count": 22,
   "id": "c5e63b5d",
   "metadata": {},
   "outputs": [
    {
     "data": {
      "text/plain": [
       "33.0"
      ]
     },
     "execution_count": 22,
     "metadata": {},
     "output_type": "execute_result"
    }
   ],
   "source": [
    "#median\n",
    "n1=np.array([23,43,54,3,5,65])\n",
    "\n",
    "\n",
    "np.median(n1)"
   ]
  },
  {
   "cell_type": "code",
   "execution_count": 27,
   "id": "635aaae3",
   "metadata": {},
   "outputs": [
    {
     "data": {
      "text/plain": [
       "array([13, 32, 34])"
      ]
     },
     "execution_count": 27,
     "metadata": {},
     "output_type": "execute_result"
    }
   ],
   "source": [
    "#numpy insertion & difference:\n",
    "n1=np.array([12,23,43,54,56])\n",
    "n2=np.array([23,32,43,34,13])\n",
    "\n",
    "#intersect\n",
    "np.intersect1d(n1,n2)\n",
    "\n",
    "#setdifference\n",
    "np.setdiff1d(n1,n2)\n",
    "\n",
    "#setdifference\n",
    "np.setdiff1d(n2,n1)"
   ]
  },
  {
   "cell_type": "code",
   "execution_count": 29,
   "id": "4dd71dfb",
   "metadata": {},
   "outputs": [
    {
     "data": {
      "text/plain": [
       "array([[12, 23, 43, 54, 56],\n",
       "       [23, 32, 43, 34, 13]])"
      ]
     },
     "execution_count": 29,
     "metadata": {},
     "output_type": "execute_result"
    }
   ],
   "source": [
    "#joining of arrays:\n",
    "\n",
    "#vsatak()\n",
    "#hstack()\n",
    "#column_stack()\n",
    "\n",
    "#vstack:\n",
    "\n",
    "n1=np.array([12,23,43,54,56])\n",
    "n2=np.array([23,32,43,34,13])\n",
    "\n",
    "np.vstack((n1,n2))\n",
    "\n"
   ]
  },
  {
   "cell_type": "code",
   "execution_count": 30,
   "id": "f5d10466",
   "metadata": {},
   "outputs": [
    {
     "data": {
      "text/plain": [
       "array([12, 23, 43, 54, 56, 23, 32, 43, 34, 13])"
      ]
     },
     "execution_count": 30,
     "metadata": {},
     "output_type": "execute_result"
    }
   ],
   "source": [
    "#hsatck:\n",
    "\n",
    "n1=np.array([12,23,43,54,56])\n",
    "n2=np.array([23,32,43,34,13])\n",
    "\n",
    "np.hstack((n1,n2))\n"
   ]
  },
  {
   "cell_type": "code",
   "execution_count": 32,
   "id": "16649d80",
   "metadata": {},
   "outputs": [
    {
     "data": {
      "text/plain": [
       "array([[12, 13],\n",
       "       [23, 32],\n",
       "       [43, 43],\n",
       "       [54, 34],\n",
       "       [56, 13]])"
      ]
     },
     "execution_count": 32,
     "metadata": {},
     "output_type": "execute_result"
    }
   ],
   "source": [
    "#column_stack\n",
    "n1=np.array([12,23,43,54,56])\n",
    "n2=np.array([13,32,43,34,13])\n",
    "\n",
    "np.column_stack((n1,n2))\n"
   ]
  },
  {
   "cell_type": "code",
   "execution_count": 37,
   "id": "cc1ce8f9",
   "metadata": {},
   "outputs": [
    {
     "data": {
      "text/plain": [
       "array([10, 11, 12, 13, 14, 15, 16, 17, 18, 19, 20, 21, 22, 23, 24, 25, 26,\n",
       "       27, 28, 29, 30, 31, 32, 33, 34, 35, 36, 37, 38, 39, 40, 41, 42, 43,\n",
       "       44, 45, 46, 47, 48, 49])"
      ]
     },
     "execution_count": 37,
     "metadata": {},
     "output_type": "execute_result"
    }
   ],
   "source": [
    "#initializing array:\n",
    "\n",
    "#arange\n",
    "n1=np.arange(10,50)\n",
    "\n",
    "n1"
   ]
  },
  {
   "cell_type": "code",
   "execution_count": 43,
   "id": "623b02b2",
   "metadata": {},
   "outputs": [
    {
     "data": {
      "text/plain": [
       "array([ 10,  20,  30,  40,  50,  60,  70,  80,  90, 100])"
      ]
     },
     "execution_count": 43,
     "metadata": {},
     "output_type": "execute_result"
    }
   ],
   "source": [
    "#3rd value is diffrence:\n",
    "n1=np.arange(10,110,10)\n",
    "\n",
    "n1"
   ]
  },
  {
   "cell_type": "code",
   "execution_count": 46,
   "id": "fe88f145",
   "metadata": {},
   "outputs": [
    {
     "data": {
      "text/plain": [
       "0     1\n",
       "1     2\n",
       "2    34\n",
       "3     5\n",
       "4     6\n",
       "dtype: int64"
      ]
     },
     "execution_count": 46,
     "metadata": {},
     "output_type": "execute_result"
    }
   ],
   "source": [
    "#pandas Series object:\n",
    "\n",
    "import pandas as pd\n",
    "\n",
    "n1=np.arange(10,50)\n",
    "\n",
    "n1"
   ]
  },
  {
   "cell_type": "code",
   "execution_count": 50,
   "id": "d315f9e6",
   "metadata": {},
   "outputs": [
    {
     "data": {
      "text/plain": [
       "pandas.core.series.Series"
      ]
     },
     "execution_count": 50,
     "metadata": {},
     "output_type": "execute_result"
    }
   ],
   "source": [
    "#finding  the  tpyr of array:\n",
    "n1=pd.Series([ 10,  20,  30,  40,  50,  60,  70,  80,  90, 100])\n",
    "\n",
    "type (n1)\n"
   ]
  },
  {
   "cell_type": "code",
   "execution_count": 56,
   "id": "993615d7",
   "metadata": {},
   "outputs": [
    {
     "data": {
      "text/plain": [
       "A    10\n",
       "B    20\n",
       "C    30\n",
       "D    40\n",
       "E    50\n",
       "dtype: int64"
      ]
     },
     "execution_count": 56,
     "metadata": {},
     "output_type": "execute_result"
    }
   ],
   "source": [
    "#pandas indexing:\n",
    "n1=pd.Series([ 10,  20,  30,  40,  50],index=[\"A\",\"B\",\"C\",\"D\",\"E\"])\n",
    "\n",
    "n1"
   ]
  },
  {
   "cell_type": "code",
   "execution_count": 60,
   "id": "3bac8ea5",
   "metadata": {},
   "outputs": [
    {
     "data": {
      "text/plain": [
       "a    12\n",
       "b    43\n",
       "c    23\n",
       "dtype: int64"
      ]
     },
     "execution_count": 60,
     "metadata": {},
     "output_type": "execute_result"
    }
   ],
   "source": [
    "#using dictionary:\n",
    "n1=pd.Series({\"a\":12,\"b\":43,\"c\":23})\n",
    "n1"
   ]
  },
  {
   "cell_type": "code",
   "execution_count": 68,
   "id": "5315cbbf",
   "metadata": {},
   "outputs": [
    {
     "name": "stdout",
     "output_type": "stream",
     "text": [
      "10 and 40\n"
     ]
    }
   ],
   "source": [
    "#extracting a single element:\n",
    "n1=pd.Series([ 10,  20,  30,  40,  50,  60,  70,  80,  90, 100])\n",
    "\n",
    "a=n1[0]\n",
    "b=n1[3]\n",
    "\n",
    "print (a ,\"and\",b)\n"
   ]
  },
  {
   "cell_type": "code",
   "execution_count": 69,
   "id": "1de3ab95",
   "metadata": {},
   "outputs": [
    {
     "data": {
      "text/plain": [
       "0    10\n",
       "1    20\n",
       "2    30\n",
       "3    40\n",
       "dtype: int64"
      ]
     },
     "execution_count": 69,
     "metadata": {},
     "output_type": "execute_result"
    }
   ],
   "source": [
    "#4 elements\n",
    "n1[:4]"
   ]
  },
  {
   "cell_type": "code",
   "execution_count": 70,
   "id": "330c014e",
   "metadata": {},
   "outputs": [
    {
     "data": {
      "text/plain": [
       "4     50\n",
       "5     60\n",
       "6     70\n",
       "7     80\n",
       "8     90\n",
       "9    100\n",
       "dtype: int64"
      ]
     },
     "execution_count": 70,
     "metadata": {},
     "output_type": "execute_result"
    }
   ],
   "source": [
    "#above 4:\n",
    "n1[4:]"
   ]
  },
  {
   "cell_type": "code",
   "execution_count": 71,
   "id": "a85388d0",
   "metadata": {},
   "outputs": [
    {
     "data": {
      "text/plain": [
       "6     70\n",
       "7     80\n",
       "8     90\n",
       "9    100\n",
       "dtype: int64"
      ]
     },
     "execution_count": 71,
     "metadata": {},
     "output_type": "execute_result"
    }
   ],
   "source": [
    "#negtive:\n",
    "n1[-4:]"
   ]
  },
  {
   "cell_type": "code",
   "execution_count": 74,
   "id": "fb7c0754",
   "metadata": {},
   "outputs": [
    {
     "data": {
      "text/plain": [
       "0     35\n",
       "1     55\n",
       "2     46\n",
       "3     77\n",
       "4    108\n",
       "5    130\n",
       "dtype: int64"
      ]
     },
     "execution_count": 74,
     "metadata": {},
     "output_type": "execute_result"
    }
   ],
   "source": [
    "s1=pd.Series([12,23,34,45,65,76])\n",
    "s2=pd.Series([23,32,12,32,43,54])\n",
    "\n",
    "#addition:\n",
    "s1+s2\n"
   ]
  },
  {
   "cell_type": "code",
   "execution_count": 78,
   "id": "720be68f",
   "metadata": {},
   "outputs": [
    {
     "data": {
      "text/html": [
       "<div>\n",
       "<style scoped>\n",
       "    .dataframe tbody tr th:only-of-type {\n",
       "        vertical-align: middle;\n",
       "    }\n",
       "\n",
       "    .dataframe tbody tr th {\n",
       "        vertical-align: top;\n",
       "    }\n",
       "\n",
       "    .dataframe thead th {\n",
       "        text-align: right;\n",
       "    }\n",
       "</style>\n",
       "<table border=\"1\" class=\"dataframe\">\n",
       "  <thead>\n",
       "    <tr style=\"text-align: right;\">\n",
       "      <th></th>\n",
       "      <th>Names</th>\n",
       "      <th>AGE</th>\n",
       "    </tr>\n",
       "  </thead>\n",
       "  <tbody>\n",
       "    <tr>\n",
       "      <th>0</th>\n",
       "      <td>DATTA</td>\n",
       "      <td>54</td>\n",
       "    </tr>\n",
       "    <tr>\n",
       "      <th>1</th>\n",
       "      <td>RAHUL</td>\n",
       "      <td>34</td>\n",
       "    </tr>\n",
       "    <tr>\n",
       "      <th>2</th>\n",
       "      <td>ADITYA</td>\n",
       "      <td>87</td>\n",
       "    </tr>\n",
       "  </tbody>\n",
       "</table>\n",
       "</div>"
      ],
      "text/plain": [
       "    Names  AGE\n",
       "0   DATTA   54\n",
       "1   RAHUL   34\n",
       "2  ADITYA   87"
      ]
     },
     "execution_count": 78,
     "metadata": {},
     "output_type": "execute_result"
    }
   ],
   "source": [
    "import pandas as pd\n",
    "pd.DataFrame({\"Names\":[\"DATTA\",\"RAHUL\",\"ADITYA\"],\"AGE\":[54,34,87]})\n",
    "\n"
   ]
  },
  {
   "cell_type": "code",
   "execution_count": null,
   "id": "251c34fa",
   "metadata": {},
   "outputs": [],
   "source": []
  }
 ],
 "metadata": {
  "kernelspec": {
   "display_name": "Python 3 (ipykernel)",
   "language": "python",
   "name": "python3"
  },
  "language_info": {
   "codemirror_mode": {
    "name": "ipython",
    "version": 3
   },
   "file_extension": ".py",
   "mimetype": "text/x-python",
   "name": "python",
   "nbconvert_exporter": "python",
   "pygments_lexer": "ipython3",
   "version": "3.9.7"
  }
 },
 "nbformat": 4,
 "nbformat_minor": 5
}
