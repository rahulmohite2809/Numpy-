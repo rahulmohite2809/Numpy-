{
 "cells": [
  {
   "cell_type": "markdown",
   "id": "6ca404a9",
   "metadata": {},
   "source": [
    "#  Different Dimensional arrays:"
   ]
  },
  {
   "cell_type": "code",
   "execution_count": 2,
   "id": "03acf056",
   "metadata": {},
   "outputs": [
    {
     "name": "stdout",
     "output_type": "stream",
     "text": [
      "200\n",
      "Dimensions:  0\n"
     ]
    }
   ],
   "source": [
    "# 0-D array\n",
    "import numpy as np\n",
    "\n",
    "arr = np.array(200)\n",
    "\n",
    "print(arr) \n",
    "\n",
    "# dimensions\n",
    "\n",
    "print(\"Dimensions: \",arr.ndim)"
   ]
  },
  {
   "cell_type": "code",
   "execution_count": 3,
   "id": "4cbeda15",
   "metadata": {},
   "outputs": [
    {
     "name": "stdout",
     "output_type": "stream",
     "text": [
      "[1 2 3 4 5 6]\n",
      "<class 'numpy.ndarray'>\n",
      "1\n",
      "Element present at 4th index:  5\n"
     ]
    }
   ],
   "source": [
    "# 1-D array\n",
    "\n",
    "arr = np.array((1,2,3,4,5,6))\n",
    "print(arr)\n",
    "print(type(arr))\n",
    "\n",
    "# dimesnsions\n",
    "print(arr.ndim)\n",
    "\n",
    "# Access elements an 1-D array\n",
    "\n",
    "print(\"Element present at 4th index: \",arr[4])"
   ]
  },
  {
   "cell_type": "code",
   "execution_count": 4,
   "id": "eccc2288",
   "metadata": {},
   "outputs": [
    {
     "name": "stdout",
     "output_type": "stream",
     "text": [
      "[[1 2 3]\n",
      " [4 5 6]]\n",
      "Dimensions:  2\n"
     ]
    }
   ],
   "source": [
    "\n",
    "\n",
    "# 2-D array\n",
    "# Arrays ahaving 1-D array as input element, are called as 2-D array\n",
    "ar = [[1,2,3],[4,5,6]]\n",
    "arr = np.array(ar)\n",
    "print(arr)\n",
    "print(\"Dimensions: \",arr.ndim)\n",
    "\n"
   ]
  },
  {
   "cell_type": "code",
   "execution_count": 5,
   "id": "ae066c2d",
   "metadata": {},
   "outputs": [
    {
     "name": "stdout",
     "output_type": "stream",
     "text": [
      "[1 2 3]\n",
      "3\n",
      "[4 5 6]\n",
      "5\n",
      "Dimensions:  2\n"
     ]
    }
   ],
   "source": [
    "# Access the elements of 2-D array\n",
    "#one way is to write\n",
    "\n",
    "print(arr[0])\n",
    "print(arr[0][2])\n",
    "# another way is like\n",
    "print(arr[1])\n",
    "print(arr[1,1])\n",
    "\n",
    "# dimensions\n",
    "\n",
    "print(\"Dimensions: \",arr.ndim)"
   ]
  },
  {
   "cell_type": "code",
   "execution_count": 6,
   "id": "8a5ac6ff",
   "metadata": {},
   "outputs": [
    {
     "name": "stdout",
     "output_type": "stream",
     "text": [
      "<class 'list'>\n",
      "[[[ 1  2  3]\n",
      "  [ 4  5  6]]\n",
      "\n",
      " [[10 20 30]\n",
      "  [40 50 60]]]\n",
      "<class 'numpy.ndarray'>\n",
      "Dimensions: 3\n",
      "3\n"
     ]
    }
   ],
   "source": [
    "# 3-D array\n",
    "# array that has 2-D arrays (matrices) as its elements is \n",
    "# called 3-D array.\n",
    "ar = [[[1, 2, 3], [4, 5, 6]] , [[10, 20, 30], [40, 50, 60]]]\n",
    "print(type(ar))\n",
    "\n",
    "arr = np.array(ar)\n",
    "print(arr)\n",
    "print(type(arr))\n",
    "print(\"Dimensions:\",arr.ndim)\n",
    "# dimensions\n",
    "\n",
    "print(arr.ndim)"
   ]
  },
  {
   "cell_type": "code",
   "execution_count": 7,
   "id": "64a6ba15",
   "metadata": {},
   "outputs": [
    {
     "name": "stdout",
     "output_type": "stream",
     "text": [
      "[[10 20 30]\n",
      " [40 50 60]]\n",
      "[1 2 3]\n",
      "3\n",
      "[[10 20 30]\n",
      " [40 50 60]]\n",
      "[1 2 3]\n",
      "3\n"
     ]
    }
   ],
   "source": [
    "# access the elements of the 3-D array\n",
    "# One way is \n",
    "\n",
    "print(arr[1])\n",
    "print(arr[0][0])\n",
    "print(arr[0][0][2])\n",
    "\n",
    "# Another way\n",
    "\n",
    "\n",
    "print(arr[1])\n",
    "print(arr[0,0])\n",
    "print(arr[0,0,2])"
   ]
  },
  {
   "cell_type": "code",
   "execution_count": 8,
   "id": "81e67d13",
   "metadata": {},
   "outputs": [
    {
     "name": "stdout",
     "output_type": "stream",
     "text": [
      "[[[[[1 2 3 4]]]]]\n",
      "number of dimensions : 5\n"
     ]
    }
   ],
   "source": [
    "# create an n dimensional array\n",
    "arr = np.array([1, 2, 3, 4], ndmin=5)\n",
    "\n",
    "print(arr)\n",
    "print('number of dimensions :', arr.ndim) "
   ]
  },
  {
   "cell_type": "code",
   "execution_count": null,
   "id": "c5ff62f8",
   "metadata": {},
   "outputs": [],
   "source": []
  }
 ],
 "metadata": {
  "kernelspec": {
   "display_name": "Python 3 (ipykernel)",
   "language": "python",
   "name": "python3"
  },
  "language_info": {
   "codemirror_mode": {
    "name": "ipython",
    "version": 3
   },
   "file_extension": ".py",
   "mimetype": "text/x-python",
   "name": "python",
   "nbconvert_exporter": "python",
   "pygments_lexer": "ipython3",
   "version": "3.9.7"
  }
 },
 "nbformat": 4,
 "nbformat_minor": 5
}
